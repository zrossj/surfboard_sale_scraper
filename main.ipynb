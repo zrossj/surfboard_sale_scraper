{
 "cells": [
  {
   "cell_type": "markdown",
   "metadata": {
    "vscode": {
     "languageId": "plaintext"
    }
   },
   "source": [
    "### SILVERSURFBOARDS WEBSCRAP - OUTLET"
   ]
  },
  {
   "cell_type": "code",
   "execution_count": 1,
   "metadata": {},
   "outputs": [],
   "source": [
    "from selenium import webdriver\n",
    "from bs4 import BeautifulSoup\n",
    "from jproperties import Properties\n",
    "import smtplib\n",
    "from email.mime.multipart import MIMEMultipart\n",
    "from email.mime.text import MIMEText\n",
    "import os"
   ]
  },
  {
   "cell_type": "code",
   "execution_count": 2,
   "metadata": {},
   "outputs": [],
   "source": [
    "# load the SMTP credentials; \n",
    "\n",
    "use_mail = True\n",
    "\n",
    "try:\n",
    "    with open ('./dockerpy/app.properties', 'r+b') as f:\n",
    "        \n",
    "        p = Properties()\n",
    "        p.load(f, 'utf-8')\n",
    "\n",
    "        user = p.get('mail').data\n",
    "        password = p.get('password').data\n",
    "\n",
    "except: \n",
    "    print('e-mail sender will not be used. File \"app.properties\" not found')\n",
    "    use_mail = False"
   ]
  },
  {
   "cell_type": "code",
   "execution_count": null,
   "metadata": {},
   "outputs": [
    {
     "name": "stderr",
     "output_type": "stream",
     "text": [
      "The geckodriver version (0.35.0) detected in PATH at /usr/local/bin/geckodriver might not be compatible with the detected firefox version (136.0); currently, geckodriver 0.36.0 is recommended for firefox 136.*, so it is advised to delete the driver in PATH and retry\n"
     ]
    }
   ],
   "source": [
    "driver = webdriver.Firefox()\n",
    "\n",
    "url = 'https://silversurf.com.br/categoria-produto/outlet-pranchas/'\n",
    "\n",
    "driver.get(url)\n",
    "\n",
    "\n",
    "html_content = driver.page_source\n",
    "\n",
    "soup = BeautifulSoup(html_content, 'html.parser')\n",
    "\n",
    "links = soup.find_all('a', href = True), #{'class': \"woocommerce-LoopProduct-link\"})\n",
    "links = links[0]"
   ]
  },
  {
   "cell_type": "code",
   "execution_count": 5,
   "metadata": {},
   "outputs": [],
   "source": [
    "# regex in the attrs href to get the ones that match 'outlet-prancha'\n",
    "\n",
    "boards_list = []\n",
    "import re\n",
    "\n",
    "for link in links:\n",
    "    \n",
    "    link_text = link.attrs['href']\n",
    "    match = re.search('/produto/outlet-prancha', link_text)\n",
    "    if match:\n",
    "        boards_list.append(link)\n"
   ]
  },
  {
   "cell_type": "code",
   "execution_count": 6,
   "metadata": {},
   "outputs": [],
   "source": [
    "# lets filter with RE - get only PU and 6'0 or 6'11\n",
    "boards_list_filtered = []\n",
    "\n",
    "for board in boards_list:\n",
    "    \n",
    "    label = board.attrs.get('aria-label')\n",
    "    if not label == None:  # this removes the secundary link (which not contains the images as children)\n",
    "            \n",
    "        match = re.search(\"6'1|6'0\", label)\n",
    "        \n",
    "        if match:\n",
    "            match2 = re.search(\"PU\", label, re.IGNORECASE)\n",
    "            if match2: \n",
    "                boards_list_filtered.append(board)\n",
    "    "
   ]
  },
  {
   "cell_type": "markdown",
   "metadata": {},
   "source": [
    "<h3> Now We've our elegible surf boards for take a look/e-mail </h3>"
   ]
  },
  {
   "cell_type": "code",
   "execution_count": null,
   "metadata": {},
   "outputs": [],
   "source": [
    "# how its gonna be the e-mail? - Title, price and image in the body of the e-mail;\n",
    "\n",
    "for candidate in boards_list_filtered:\n",
    "    pics = []\n",
    "\n",
    "    candidate_pics = list(candidate.children)\n",
    "\n",
    "    try:\n",
    "        candidate_pics.remove('\\n')\n",
    "        candidate_pics.remove(' ')\n",
    "    except:\n",
    "        None\n",
    "\n",
    "    for child in candidate_pics:\n",
    "\n",
    "        if child.attrs != {}:\n",
    "    \n",
    "            pics.append(f\"<img src={child.get('data-lazy-src')}>\")\n",
    "    \n",
    "    candidate['img_source'] = pics"
   ]
  },
  {
   "cell_type": "markdown",
   "metadata": {},
   "source": [
    "<h3> E-mail Sender </h3>"
   ]
  },
  {
   "cell_type": "code",
   "execution_count": null,
   "metadata": {},
   "outputs": [],
   "source": [
    "html_msg = \"\"\n",
    "\n",
    "for candidate in boards_list_filtered:\n",
    "\n",
    "    html_msg = html_msg + f\"\"\"\n",
    "    <html>\n",
    "        <body>\n",
    "        {candidate.attrs.get('aria-label')}<br>\n",
    "        link da loja: {candidate.attrs.get('href')}<br>\n",
    "        images:<br>\n",
    "        {''.join(candidate.attrs.get('img_source'))}\n",
    "        <br>\n",
    "        <br>\n",
    "        <br>\n",
    "        </body>\n",
    "    </html>\n",
    "    \"\"\"\n",
    "\n",
    "\n",
    "# variables to send mail\n",
    "if use_mail:\n",
    "    \n",
    "    msg = MIMEMultipart(\"alternative\")\n",
    "    msg['Subject'] = \"Prancha em destaque\"\n",
    "    msg['From'] = \"farialimer.green@gmail.com\"\n",
    "    msg['To'] = \"farialimer.green@gmail.com\"\n",
    "    msg.attach(MIMEText(html_msg, 'html'))\n",
    "\n",
    "    # Send email via SMTP (example with Gmail)\n",
    "    with smtplib.SMTP_SSL('smtp.gmail.com', 465) as server:\n",
    "        server.login(user, password)\n",
    "        server.send_message(msg)\n",
    "\n",
    "else: # saves the msg as .html and open it in firefox browser; \n",
    "\n",
    "    with open('msg.html', 'w') as m:\n",
    "        m.write(html_msg)\n",
    "\n",
    "    msg_abspath = os.path.abspath('msg.html')\n",
    "    driver.get('file://' + msg_abspath)"
   ]
  },
  {
   "cell_type": "code",
   "execution_count": null,
   "metadata": {},
   "outputs": [],
   "source": [
    "# close the webdriver\n",
    "driver.close()\n",
    "\n",
    "# --- finish"
   ]
  },
  {
   "cell_type": "code",
   "execution_count": null,
   "metadata": {},
   "outputs": [],
   "source": []
  },
  {
   "cell_type": "code",
   "execution_count": null,
   "metadata": {},
   "outputs": [],
   "source": []
  },
  {
   "cell_type": "code",
   "execution_count": null,
   "metadata": {},
   "outputs": [],
   "source": []
  },
  {
   "cell_type": "code",
   "execution_count": null,
   "metadata": {},
   "outputs": [],
   "source": []
  }
 ],
 "metadata": {
  "kernelspec": {
   "display_name": "surfboard",
   "language": "python",
   "name": "python3"
  },
  "language_info": {
   "codemirror_mode": {
    "name": "ipython",
    "version": 3
   },
   "file_extension": ".py",
   "mimetype": "text/x-python",
   "name": "python",
   "nbconvert_exporter": "python",
   "pygments_lexer": "ipython3",
   "version": "3.11.0"
  }
 },
 "nbformat": 4,
 "nbformat_minor": 4
}
