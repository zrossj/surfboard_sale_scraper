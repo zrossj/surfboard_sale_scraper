{
 "cells": [
  {
   "cell_type": "markdown",
   "metadata": {
    "vscode": {
     "languageId": "plaintext"
    }
   },
   "source": [
    "### SILVERSURFBOARDS WEBSCRAP - OUTLET"
   ]
  },
  {
   "cell_type": "code",
   "execution_count": null,
   "metadata": {},
   "outputs": [],
   "source": [
    "from selenium import webdriver\n",
    "from bs4 import BeautifulSoup"
   ]
  },
  {
   "cell_type": "code",
   "execution_count": 3,
   "metadata": {},
   "outputs": [
    {
     "name": "stderr",
     "output_type": "stream",
     "text": [
      "The geckodriver version (0.35.0) detected in PATH at /usr/local/bin/geckodriver might not be compatible with the detected firefox version (136.0); currently, geckodriver 0.36.0 is recommended for firefox 136.*, so it is advised to delete the driver in PATH and retry\n"
     ]
    }
   ],
   "source": [
    "driver = webdriver.Firefox()\n",
    "\n",
    "url = 'https://silversurf.com.br/categoria-produto/outlet-pranchas/'\n",
    "\n",
    "driver.get(url)"
   ]
  },
  {
   "cell_type": "code",
   "execution_count": null,
   "metadata": {},
   "outputs": [],
   "source": [
    "html_content = driver.page_source\n",
    "\n",
    "soup = BeautifulSoup(html_content, 'html.parser')\n",
    "\n",
    "links = soup.find_all('a', href = True), #{'class': \"woocommerce-LoopProduct-link\"})\n",
    "links = links[0]"
   ]
  },
  {
   "cell_type": "code",
   "execution_count": 9,
   "metadata": {},
   "outputs": [],
   "source": [
    "# regex in the attrs href to get the ones that match 'outlet-prancha'\n",
    "\n",
    "boards_list = []\n",
    "import re\n",
    "\n",
    "for link in links:\n",
    "    \n",
    "    link_text = link.attrs['href']\n",
    "    match = re.search('/produto/outlet-prancha', link_text)\n",
    "    if match:\n",
    "        boards_list.append(link)\n"
   ]
  },
  {
   "cell_type": "code",
   "execution_count": null,
   "metadata": {},
   "outputs": [],
   "source": []
  },
  {
   "cell_type": "code",
   "execution_count": 10,
   "metadata": {},
   "outputs": [
    {
     "name": "stdout",
     "output_type": "stream",
     "text": [
      "match 1\n",
      "match2\n",
      "match 1\n",
      "match2\n",
      "match 1\n",
      "match2\n"
     ]
    }
   ],
   "source": [
    "# lets filter with RE - get only PU and 6'0 or 6'11\n",
    "boards_list_filtered = []\n",
    "\n",
    "for board in boards_list:\n",
    "    \n",
    "    label = board.attrs.get('aria-label')\n",
    "    if not label == None:  # this removes the secundary link (which not contains the images as children)\n",
    "            \n",
    "        match = re.search(\"6'1|6'0\", label)\n",
    "        \n",
    "        if match:\n",
    "            print('match 1')\n",
    "\n",
    "            match2 = re.search(\"PU\", label, re.IGNORECASE)\n",
    "            if match2: \n",
    "                #and 'woocommerce-LoopProduct-link' not in board.attrs.get('class'): # we  getting 2 objs with the same purpouse - so lets get rid of one;\n",
    "                \n",
    "                print('match2')\n",
    "                boards_list_filtered.append(board)\n",
    "    "
   ]
  },
  {
   "cell_type": "markdown",
   "metadata": {},
   "source": [
    "<h3> Now We've our elegible surf boards for take a look and e-mail </h3>"
   ]
  },
  {
   "cell_type": "code",
   "execution_count": 24,
   "metadata": {},
   "outputs": [],
   "source": [
    "# how its gonna be the e-mail? - Title, price and image in the body of the e-mail;\n",
    "\n",
    "for candidate in boards_list_filtered:\n",
    "    pics = []\n",
    "\n",
    "    candidate_pics = list(candidate.children)\n",
    "\n",
    "    try:\n",
    "        candidate_pics.remove('\\n')\n",
    "        candidate_pics.remove(' ')\n",
    "    except:\n",
    "        None\n",
    "\n",
    "    for child in candidate_pics:\n",
    "\n",
    "        if child.attrs != {}:\n",
    "    \n",
    "            pics.append(f\"<img src={child.get('data-lazy-src')}>\")\n",
    "    \n",
    "    candidate['img_source'] = pics\n",
    "\n",
    "        "
   ]
  },
  {
   "cell_type": "markdown",
   "metadata": {},
   "source": [
    "<h3> email msg </h3>"
   ]
  },
  {
   "cell_type": "code",
   "execution_count": 25,
   "metadata": {},
   "outputs": [],
   "source": [
    "import smtplib\n",
    "from email.mime.multipart import MIMEMultipart\n",
    "from email.mime.text import MIMEText\n"
   ]
  },
  {
   "cell_type": "code",
   "execution_count": 33,
   "metadata": {},
   "outputs": [],
   "source": [
    "html_msg = \"\"\n",
    "\n",
    "for candidate in boards_list_filtered:\n",
    "\n",
    "    html_msg = html_msg + f\"\"\"\n",
    "    <html>\n",
    "        <body>\n",
    "        {candidate.attrs.get('aria-label')}<br>\n",
    "        link da loja: {candidate.attrs.get('href')}<br>\n",
    "        images:<br>\n",
    "        {''.join(candidate.attrs.get('img_source'))}\n",
    "        <br>\n",
    "        <br>\n",
    "        <br>\n",
    "        </body>\n",
    "    </html>\n",
    "    \"\"\""
   ]
  },
  {
   "cell_type": "code",
   "execution_count": 34,
   "metadata": {},
   "outputs": [],
   "source": [
    "msg = MIMEMultipart(\"alternative\")\n",
    "msg['Subject'] = \"Prancha em destaque\"\n",
    "msg['From'] = \"farialimer.green@gmail.com\"\n",
    "msg['To'] = \"farialimer.green@gmail.com\"\n",
    "msg.attach(MIMEText(html_msg, 'html'))\n",
    "\n",
    "# Send email via SMTP (example with Gmail)\n",
    "with smtplib.SMTP_SSL('smtp.gmail.com', 465) as server:\n",
    "    server.login('farialimer.green@gmail.com', 'ffhh htlz synd uljz')\n",
    "    server.send_message(msg)"
   ]
  },
  {
   "cell_type": "code",
   "execution_count": null,
   "metadata": {},
   "outputs": [],
   "source": []
  }
 ],
 "metadata": {
  "kernelspec": {
   "display_name": "Python 3 (ipykernel)",
   "language": "python",
   "name": "python3"
  },
  "language_info": {
   "codemirror_mode": {
    "name": "ipython",
    "version": 3
   },
   "file_extension": ".py",
   "mimetype": "text/x-python",
   "name": "python",
   "nbconvert_exporter": "python",
   "pygments_lexer": "ipython3",
   "version": "3.11.5"
  }
 },
 "nbformat": 4,
 "nbformat_minor": 4
}
